{
 "cells": [
  {
   "cell_type": "code",
   "execution_count": null,
   "metadata": {
    "scrolled": true
   },
   "outputs": [
    {
     "name": "stdout",
     "output_type": "stream",
     "text": [
      "Digite o nome do arquivo do labirinto: labirinto10.txt\n",
      "\n",
      "+.++++++++\n",
      "+.........\n",
      "+.+++++++.\n",
      "+.+++++++.\n",
      "+F.....++.\n",
      "+++.++.++.\n",
      "+++.++.++.\n",
      "+...++....\n",
      "+.++++C++.\n",
      "+......++.\n",
      "\n"
     ]
    }
   ],
   "source": [
    "\n",
    "# módulo onde estarão as funções a serem implementadas para fazer todo\n",
    "# o controle e impressão do jogo (É o arquivo pacman.py)\n",
    "import pacman\n",
    "\n",
    "# Se você criou funções adicionais e colocou em extras.py,\n",
    "# descomente a linha abaixo\n",
    "#import extras\n",
    "\n",
    "# módulo para definição da semente para sorteio dos números pseudo\n",
    "# aleatórios\n",
    "import random\n",
    "\n",
    "\n",
    "# ======================================================================\n",
    "#\n",
    "#   M A I N \n",
    "#\n",
    "# ======================================================================\n",
    "\n",
    "def main():\n",
    "\n",
    "    # !!!! NÃO MODIFIQUE AS LINHAS ABAIXO !!!! \n",
    "    semente =0\n",
    "    random.seed(semente)\n",
    "\n",
    "    nomeDoArquivo = input(\"Digite o nome do arquivo do labirinto: \")\n",
    "\n",
    "    # leitura da configuração inicial do labirinto\n",
    "    lab = pacman.leLabirinto(nomeDoArquivo)\n",
    "    # !!!! AGORA VOCÊ PODE MODIFICAR O MAIN !!!! \n",
    "    \n",
    "    print()\n",
    "    pac=pacman.criaPacMan(lab)\n",
    "    fantasmas=pacman.criaFantasmas(lab)\n",
    "    pacman.imprimeLabirinto(lab, pac, fantasmas)\n",
    "    print()\n",
    "    \n",
    "    segue_jogo=True\n",
    "    while segue_jogo:\n",
    "        d=input(\"Direção (a - esquerda, s - direita, w - cima, z - baixo): \")\n",
    "        if d=='a': pac[2]=0\n",
    "        elif d=='s': pac[2]=1\n",
    "        elif d=='w': pac[2]=2\n",
    "        else: pac[2]=3\n",
    "        print()\n",
    "        pacman.movimentaFantasmas(lab, fantasmas)\n",
    "        pacman.verificaColisao(pac, fantasmas)\n",
    "        if pacman.verificaColisao(pac, fantasmas)==True:\n",
    "            print()\n",
    "            pacman.imprimeLabirinto(lab, pac, fantasmas)\n",
    "            print()\n",
    "            print(\"Game over! Pontos = %d\"%pac[3])\n",
    "            segue_jogo=False\n",
    "        if not pacman.verificaColisao(pac, fantasmas):\n",
    "            pacman.movimentaPacMan(lab, pac)\n",
    "            pacman.verificaColisao(pac, fantasmas)\n",
    "            print()\n",
    "            if pacman.verificaColisao(pac, fantasmas)==True:\n",
    "                pacman.imprimeLabirinto(lab, pac, fantasmas)\n",
    "                print()\n",
    "                print(\"Game over! Pontos = %d\"%pac[3])\n",
    "                segue_jogo=False\n",
    "            if not pacman.verificaColisao(pac, fantasmas):\n",
    "                if lab[pac[0]][pac[1]]=='.':\n",
    "                    pac[3]+=1\n",
    "                    lab[pac[0]][pac[1]]=' '\n",
    "                pacman.imprimeLabirinto(lab, pac, fantasmas)\n",
    "                print()\n",
    "                if not pacman.aindaTemPacDots(lab):\n",
    "                    print()\n",
    "                    print(\"Congratulations! Pontos = %d\"%pac[3])\n",
    "                    segue_jogo=False\n",
    "main()"
   ]
  },
  {
   "cell_type": "code",
   "execution_count": null,
   "metadata": {},
   "outputs": [],
   "source": []
  },
  {
   "cell_type": "code",
   "execution_count": null,
   "metadata": {
    "collapsed": true
   },
   "outputs": [],
   "source": []
  },
  {
   "cell_type": "code",
   "execution_count": null,
   "metadata": {
    "collapsed": true
   },
   "outputs": [],
   "source": []
  }
 ],
 "metadata": {
  "kernelspec": {
   "display_name": "Python 3 (ipykernel)",
   "language": "python",
   "name": "python3"
  },
  "language_info": {
   "codemirror_mode": {
    "name": "ipython",
    "version": 3
   },
   "file_extension": ".py",
   "mimetype": "text/x-python",
   "name": "python",
   "nbconvert_exporter": "python",
   "pygments_lexer": "ipython3",
   "version": "3.5.1"
  }
 },
 "nbformat": 4,
 "nbformat_minor": 1
}
